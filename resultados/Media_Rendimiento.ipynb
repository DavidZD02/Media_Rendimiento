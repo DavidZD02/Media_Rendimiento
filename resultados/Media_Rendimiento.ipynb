{
  "nbformat": 4,
  "nbformat_minor": 0,
  "metadata": {
    "colab": {
      "provenance": []
    },
    "kernelspec": {
      "name": "python3",
      "display_name": "Python 3"
    },
    "language_info": {
      "name": "python"
    }
  },
  "cells": [
    {
      "cell_type": "markdown",
      "source": [
        "<div> \n",
        "<img src=\"https://res-5.cloudinary.com/crunchbase-production/image/upload/c_lpad,h_256,w_256,f_auto,q_auto:eco/v1455514364/pim02bzqvgz0hibsra41.png\" align=\"right\"><br><br><FONT FACE=\"times new roman\" SIZE=5>\n",
        "<b> Regresión Lineal </b>\n",
        "\n",
        "<i><b>Docente:</b></i> John Corredor, PhD.\n",
        "<br>\n",
        "<i><b>Asignatura:</b></i> Computacion Paralela\n",
        "<br>\n",
        "<i><b>Estudiante:</b></i> David Zárate.\n",
        "<br>\n",
        "<i><b>Tema:</b></i> Media Rendimiento Python-Cython\n",
        "<br>\n",
        "09/11/22\n",
        "<br>\n",
        "</FONT>\n",
        "</p>"
      ],
      "metadata": {
        "id": "Pl4P19yCPcn2"
      }
    },
    {
      "cell_type": "markdown",
      "source": [
        "#Bibliotecas y Dataset"
      ],
      "metadata": {
        "id": "KCLrzEOwPqOd"
      }
    },
    {
      "cell_type": "code",
      "execution_count": 21,
      "metadata": {
        "id": "4GVvByhRPbwJ"
      },
      "outputs": [],
      "source": [
        "import pandas as pd\n",
        "import numpy as np\n",
        "import matplotlib.pyplot as plt\n",
        "import seaborn as sns"
      ]
    },
    {
      "cell_type": "code",
      "source": [
        "url = 'https://raw.githubusercontent.com/DavidZD02/Media_Rendimiento/main/tierra.csv'\n",
        "df = pd.read_csv(url, names=['Python','Cython'])"
      ],
      "metadata": {
        "id": "cNtBZNXhPpVN"
      },
      "execution_count": 6,
      "outputs": []
    },
    {
      "cell_type": "code",
      "source": [
        "df.head(30)"
      ],
      "metadata": {
        "colab": {
          "base_uri": "https://localhost:8080/",
          "height": 990
        },
        "id": "9xZ7dE-HQK3q",
        "outputId": "c930cb71-84fd-43d1-cabf-aa0a5a8480f2"
      },
      "execution_count": 15,
      "outputs": [
        {
          "output_type": "execute_result",
          "data": {
            "text/plain": [
              "     Python   Cython\n",
              "0   1.97306  0.10995\n",
              "1   1.98571  0.10989\n",
              "2   1.62348  0.09015\n",
              "3   1.64978  0.08832\n",
              "4   1.59565  0.08602\n",
              "5   1.59524  0.08653\n",
              "6   1.60200  0.08631\n",
              "7   1.59960  0.08659\n",
              "8   1.58302  0.09474\n",
              "9   1.61355  0.08680\n",
              "10  1.61168  0.08733\n",
              "11  1.61869  0.08734\n",
              "12  1.60625  0.08685\n",
              "13  1.60737  0.08753\n",
              "14  1.65005  0.08775\n",
              "15  1.62747  0.09055\n",
              "16  1.63000  0.08722\n",
              "17  1.63966  0.08767\n",
              "18  1.64439  0.08715\n",
              "19  1.59042  0.08907\n",
              "20  1.57436  0.08866\n",
              "21  1.57459  0.08703\n",
              "22  1.57711  0.08770\n",
              "23  1.61881  0.08814\n",
              "24  1.61649  0.08880\n",
              "25  1.60926  0.08966\n",
              "26  1.61319  0.08821\n",
              "27  1.60609  0.08805\n",
              "28  1.60786  0.08713\n",
              "29  1.60548  0.08826"
            ],
            "text/html": [
              "\n",
              "  <div id=\"df-19eced54-a4e3-4d1d-9678-86c5dd87481c\">\n",
              "    <div class=\"colab-df-container\">\n",
              "      <div>\n",
              "<style scoped>\n",
              "    .dataframe tbody tr th:only-of-type {\n",
              "        vertical-align: middle;\n",
              "    }\n",
              "\n",
              "    .dataframe tbody tr th {\n",
              "        vertical-align: top;\n",
              "    }\n",
              "\n",
              "    .dataframe thead th {\n",
              "        text-align: right;\n",
              "    }\n",
              "</style>\n",
              "<table border=\"1\" class=\"dataframe\">\n",
              "  <thead>\n",
              "    <tr style=\"text-align: right;\">\n",
              "      <th></th>\n",
              "      <th>Python</th>\n",
              "      <th>Cython</th>\n",
              "    </tr>\n",
              "  </thead>\n",
              "  <tbody>\n",
              "    <tr>\n",
              "      <th>0</th>\n",
              "      <td>1.97306</td>\n",
              "      <td>0.10995</td>\n",
              "    </tr>\n",
              "    <tr>\n",
              "      <th>1</th>\n",
              "      <td>1.98571</td>\n",
              "      <td>0.10989</td>\n",
              "    </tr>\n",
              "    <tr>\n",
              "      <th>2</th>\n",
              "      <td>1.62348</td>\n",
              "      <td>0.09015</td>\n",
              "    </tr>\n",
              "    <tr>\n",
              "      <th>3</th>\n",
              "      <td>1.64978</td>\n",
              "      <td>0.08832</td>\n",
              "    </tr>\n",
              "    <tr>\n",
              "      <th>4</th>\n",
              "      <td>1.59565</td>\n",
              "      <td>0.08602</td>\n",
              "    </tr>\n",
              "    <tr>\n",
              "      <th>5</th>\n",
              "      <td>1.59524</td>\n",
              "      <td>0.08653</td>\n",
              "    </tr>\n",
              "    <tr>\n",
              "      <th>6</th>\n",
              "      <td>1.60200</td>\n",
              "      <td>0.08631</td>\n",
              "    </tr>\n",
              "    <tr>\n",
              "      <th>7</th>\n",
              "      <td>1.59960</td>\n",
              "      <td>0.08659</td>\n",
              "    </tr>\n",
              "    <tr>\n",
              "      <th>8</th>\n",
              "      <td>1.58302</td>\n",
              "      <td>0.09474</td>\n",
              "    </tr>\n",
              "    <tr>\n",
              "      <th>9</th>\n",
              "      <td>1.61355</td>\n",
              "      <td>0.08680</td>\n",
              "    </tr>\n",
              "    <tr>\n",
              "      <th>10</th>\n",
              "      <td>1.61168</td>\n",
              "      <td>0.08733</td>\n",
              "    </tr>\n",
              "    <tr>\n",
              "      <th>11</th>\n",
              "      <td>1.61869</td>\n",
              "      <td>0.08734</td>\n",
              "    </tr>\n",
              "    <tr>\n",
              "      <th>12</th>\n",
              "      <td>1.60625</td>\n",
              "      <td>0.08685</td>\n",
              "    </tr>\n",
              "    <tr>\n",
              "      <th>13</th>\n",
              "      <td>1.60737</td>\n",
              "      <td>0.08753</td>\n",
              "    </tr>\n",
              "    <tr>\n",
              "      <th>14</th>\n",
              "      <td>1.65005</td>\n",
              "      <td>0.08775</td>\n",
              "    </tr>\n",
              "    <tr>\n",
              "      <th>15</th>\n",
              "      <td>1.62747</td>\n",
              "      <td>0.09055</td>\n",
              "    </tr>\n",
              "    <tr>\n",
              "      <th>16</th>\n",
              "      <td>1.63000</td>\n",
              "      <td>0.08722</td>\n",
              "    </tr>\n",
              "    <tr>\n",
              "      <th>17</th>\n",
              "      <td>1.63966</td>\n",
              "      <td>0.08767</td>\n",
              "    </tr>\n",
              "    <tr>\n",
              "      <th>18</th>\n",
              "      <td>1.64439</td>\n",
              "      <td>0.08715</td>\n",
              "    </tr>\n",
              "    <tr>\n",
              "      <th>19</th>\n",
              "      <td>1.59042</td>\n",
              "      <td>0.08907</td>\n",
              "    </tr>\n",
              "    <tr>\n",
              "      <th>20</th>\n",
              "      <td>1.57436</td>\n",
              "      <td>0.08866</td>\n",
              "    </tr>\n",
              "    <tr>\n",
              "      <th>21</th>\n",
              "      <td>1.57459</td>\n",
              "      <td>0.08703</td>\n",
              "    </tr>\n",
              "    <tr>\n",
              "      <th>22</th>\n",
              "      <td>1.57711</td>\n",
              "      <td>0.08770</td>\n",
              "    </tr>\n",
              "    <tr>\n",
              "      <th>23</th>\n",
              "      <td>1.61881</td>\n",
              "      <td>0.08814</td>\n",
              "    </tr>\n",
              "    <tr>\n",
              "      <th>24</th>\n",
              "      <td>1.61649</td>\n",
              "      <td>0.08880</td>\n",
              "    </tr>\n",
              "    <tr>\n",
              "      <th>25</th>\n",
              "      <td>1.60926</td>\n",
              "      <td>0.08966</td>\n",
              "    </tr>\n",
              "    <tr>\n",
              "      <th>26</th>\n",
              "      <td>1.61319</td>\n",
              "      <td>0.08821</td>\n",
              "    </tr>\n",
              "    <tr>\n",
              "      <th>27</th>\n",
              "      <td>1.60609</td>\n",
              "      <td>0.08805</td>\n",
              "    </tr>\n",
              "    <tr>\n",
              "      <th>28</th>\n",
              "      <td>1.60786</td>\n",
              "      <td>0.08713</td>\n",
              "    </tr>\n",
              "    <tr>\n",
              "      <th>29</th>\n",
              "      <td>1.60548</td>\n",
              "      <td>0.08826</td>\n",
              "    </tr>\n",
              "  </tbody>\n",
              "</table>\n",
              "</div>\n",
              "      <button class=\"colab-df-convert\" onclick=\"convertToInteractive('df-19eced54-a4e3-4d1d-9678-86c5dd87481c')\"\n",
              "              title=\"Convert this dataframe to an interactive table.\"\n",
              "              style=\"display:none;\">\n",
              "        \n",
              "  <svg xmlns=\"http://www.w3.org/2000/svg\" height=\"24px\"viewBox=\"0 0 24 24\"\n",
              "       width=\"24px\">\n",
              "    <path d=\"M0 0h24v24H0V0z\" fill=\"none\"/>\n",
              "    <path d=\"M18.56 5.44l.94 2.06.94-2.06 2.06-.94-2.06-.94-.94-2.06-.94 2.06-2.06.94zm-11 1L8.5 8.5l.94-2.06 2.06-.94-2.06-.94L8.5 2.5l-.94 2.06-2.06.94zm10 10l.94 2.06.94-2.06 2.06-.94-2.06-.94-.94-2.06-.94 2.06-2.06.94z\"/><path d=\"M17.41 7.96l-1.37-1.37c-.4-.4-.92-.59-1.43-.59-.52 0-1.04.2-1.43.59L10.3 9.45l-7.72 7.72c-.78.78-.78 2.05 0 2.83L4 21.41c.39.39.9.59 1.41.59.51 0 1.02-.2 1.41-.59l7.78-7.78 2.81-2.81c.8-.78.8-2.07 0-2.86zM5.41 20L4 18.59l7.72-7.72 1.47 1.35L5.41 20z\"/>\n",
              "  </svg>\n",
              "      </button>\n",
              "      \n",
              "  <style>\n",
              "    .colab-df-container {\n",
              "      display:flex;\n",
              "      flex-wrap:wrap;\n",
              "      gap: 12px;\n",
              "    }\n",
              "\n",
              "    .colab-df-convert {\n",
              "      background-color: #E8F0FE;\n",
              "      border: none;\n",
              "      border-radius: 50%;\n",
              "      cursor: pointer;\n",
              "      display: none;\n",
              "      fill: #1967D2;\n",
              "      height: 32px;\n",
              "      padding: 0 0 0 0;\n",
              "      width: 32px;\n",
              "    }\n",
              "\n",
              "    .colab-df-convert:hover {\n",
              "      background-color: #E2EBFA;\n",
              "      box-shadow: 0px 1px 2px rgba(60, 64, 67, 0.3), 0px 1px 3px 1px rgba(60, 64, 67, 0.15);\n",
              "      fill: #174EA6;\n",
              "    }\n",
              "\n",
              "    [theme=dark] .colab-df-convert {\n",
              "      background-color: #3B4455;\n",
              "      fill: #D2E3FC;\n",
              "    }\n",
              "\n",
              "    [theme=dark] .colab-df-convert:hover {\n",
              "      background-color: #434B5C;\n",
              "      box-shadow: 0px 1px 3px 1px rgba(0, 0, 0, 0.15);\n",
              "      filter: drop-shadow(0px 1px 2px rgba(0, 0, 0, 0.3));\n",
              "      fill: #FFFFFF;\n",
              "    }\n",
              "  </style>\n",
              "\n",
              "      <script>\n",
              "        const buttonEl =\n",
              "          document.querySelector('#df-19eced54-a4e3-4d1d-9678-86c5dd87481c button.colab-df-convert');\n",
              "        buttonEl.style.display =\n",
              "          google.colab.kernel.accessAllowed ? 'block' : 'none';\n",
              "\n",
              "        async function convertToInteractive(key) {\n",
              "          const element = document.querySelector('#df-19eced54-a4e3-4d1d-9678-86c5dd87481c');\n",
              "          const dataTable =\n",
              "            await google.colab.kernel.invokeFunction('convertToInteractive',\n",
              "                                                     [key], {});\n",
              "          if (!dataTable) return;\n",
              "\n",
              "          const docLinkHtml = 'Like what you see? Visit the ' +\n",
              "            '<a target=\"_blank\" href=https://colab.research.google.com/notebooks/data_table.ipynb>data table notebook</a>'\n",
              "            + ' to learn more about interactive tables.';\n",
              "          element.innerHTML = '';\n",
              "          dataTable['output_type'] = 'display_data';\n",
              "          await google.colab.output.renderOutput(dataTable, element);\n",
              "          const docLink = document.createElement('div');\n",
              "          docLink.innerHTML = docLinkHtml;\n",
              "          element.appendChild(docLink);\n",
              "        }\n",
              "      </script>\n",
              "    </div>\n",
              "  </div>\n",
              "  "
            ]
          },
          "metadata": {},
          "execution_count": 15
        }
      ]
    },
    {
      "cell_type": "markdown",
      "source": [
        "#Documentacion"
      ],
      "metadata": {
        "id": "ZBejd8wcZIbW"
      }
    },
    {
      "cell_type": "markdown",
      "source": [
        "**Resumen :** \n",
        "*Cython es un lenguaje de programación el cual combina python, con el sistema de tipos estático de C y C++. La potencia que tiene Cython se da por la forma en que combina Python y C. Cython se sitúa entre el Python de alto nivel y el C de bajo nivel.\n",
        "En este caso se desarrolló un ejemplo con el problema del planeta orbita, comparando los resultados que se obtuvieron ejecutando el programa con Python y Cython. Realizando gráficas por medio de colab para tener una mejor visualización de los resultados*\n",
        "<br><br>\n"
      ],
      "metadata": {
        "id": "pxK7YYUxXRK0"
      }
    },
    {
      "cell_type": "markdown",
      "source": [
        "**Problema Planeta :**\n",
        "*Para realizar este ejercicio se hicieron pruebas con los datos del planeta tierra. Se tomaron 30 repeticiones para tener una mejor exactitud a la hora de evaluar los resultados*"
      ],
      "metadata": {
        "id": "fPI10qaoXsFT"
      }
    },
    {
      "cell_type": "markdown",
      "source": [
        "**Resultados**"
      ],
      "metadata": {
        "id": "tssUDNhSY4uN"
      }
    },
    {
      "cell_type": "code",
      "source": [
        "df.plot(kind='bar', figsize=(30,10), fontsize=18)\n",
        "plt.xlabel('Python-Cython', fontsize=18)\n",
        "plt.ylabel('Repeticiones', fontsize=18)\n",
        "plt.title('Media Rendimiento Python-Cython', fontsize=18)\n",
        "plt.xticks(rotation=0)\n",
        "plt.grid(axis='y')\n",
        "plt.savefig('solds-per-q.png')"
      ],
      "metadata": {
        "colab": {
          "base_uri": "https://localhost:8080/",
          "height": 642
        },
        "id": "TQ2F_S4zY9Z9",
        "outputId": "c21deabf-3569-4d2c-bf94-4ba01fa676cb"
      },
      "execution_count": 48,
      "outputs": [
        {
          "output_type": "display_data",
          "data": {
            "text/plain": [
              "<Figure size 2160x720 with 1 Axes>"
            ],
            "image/png": "[encoded data removed]"
          },
          "metadata": {
            "needs_background": "light"
          }
        }
      ]
    },
    {
      "cell_type": "code",
      "source": [
        "df.plot(kind='line', figsize=(30,10), fontsize=18)\n",
        "plt.xlabel('Python-Cython', fontsize=18)\n",
        "plt.ylabel('Repeticiones', fontsize=18)\n",
        "plt.title('Media Rendimiento Python-Cython', fontsize=18)\n",
        "plt.xticks(rotation=0)\n",
        "plt.grid(axis='y')\n",
        "plt.savefig('solds-per-q.png')"
      ],
      "metadata": {
        "colab": {
          "base_uri": "https://localhost:8080/",
          "height": 642
        },
        "id": "ToFxDm_mVV3T",
        "outputId": "65e22fb6-10f4-403c-e4d7-ffaacdb9c5f4"
      },
      "execution_count": 49,
      "outputs": [
        {
          "output_type": "display_data",
          "data": {
            "text/plain": [
              "<Figure size 2160x720 with 1 Axes>"
            ],
            "image/png": "[encoded data removed]"
          },
          "metadata": {
            "needs_background": "light"
          }
        }
      ]
    },
    {
      "cell_type": "code",
      "source": [
        "print(\"El promedio de Python es -> \",df['Python'].sum()/30)\n",
        "print(\"El promedio de Cython es -> \",df['Cython'].sum()/30)"
      ],
      "metadata": {
        "colab": {
          "base_uri": "https://localhost:8080/"
        },
        "id": "yHNqoVVfbPqp",
        "outputId": "4f76fedc-750b-4d2b-8ddc-316db17de1f2"
      },
      "execution_count": 54,
      "outputs": [
        {
          "output_type": "stream",
          "name": "stdout",
          "text": [
            "El promedio de Python es ->  1.8494456666666665\n",
            "El promedio de Cython es ->  0.10122266666666667\n"
          ]
        }
      ]
    },
    {
      "cell_type": "markdown",
      "source": [
        "**Analisis De Resultados :**\n",
        "*Como se puede observar en las graficas cuando se ejecuta el programa por medio de python se tiene un tiempo mucho mayor. Los resultados de Cython se reduce en casi un 90% el tiempo. Esto se da ya que al mezclar codigo de Python y C, Python se puede ajustar a la velocidad de C ajustando tan solo algunos tipos de declaraciones y realizando algunas modificaciones en el codigo*"
      ],
      "metadata": {
        "id": "3dN8L9U4ZSxr"
      }
    },
    {
      "cell_type": "markdown",
      "source": [
        "**Conclusiones**\n",
        "*Por medio del ejercicio realizado se puede concluir que Cython es un lenguaje el cual permite tener una mejor optimizacion de los programas, esto ya que Cython se ajusta a la velocidad de C con tan solo algunas modificaciones*"
      ],
      "metadata": {
        "id": "Y7Y31iZnZXI0"
      }
    },
    {
      "cell_type": "markdown",
      "source": [
        "#Referencias\n"
      ],
      "metadata": {
        "id": "g6axuWAAdnZ3"
      }
    },
    {
      "cell_type": "markdown",
      "source": [
        "\n",
        "\n",
        "*   Cython: C-Extensions for Python. (s. f.). https://cython.org/\n",
        "*   colaboradores de Wikipedia. (2022, 14 octubre). Cython. Wikipedia, la enciclopedia libre. https://es.wikipedia.org/wiki/Cython\n",
        "\n"
      ],
      "metadata": {
        "id": "uD8rRd5adpQY"
      }
    }
  ]
}